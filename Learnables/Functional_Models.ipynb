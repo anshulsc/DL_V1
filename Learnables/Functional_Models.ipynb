{
 "cells": [
  {
   "cell_type": "code",
   "execution_count": 2,
   "id": "e1031cba",
   "metadata": {},
   "outputs": [],
   "source": [
    "from keras.models import Model"
   ]
  },
  {
   "cell_type": "code",
   "execution_count": 7,
   "id": "efeeae33",
   "metadata": {},
   "outputs": [],
   "source": [
    "model = Model(inputs = x , outputs =[output1,output2] )"
   ]
  },
  {
   "cell_type": "code",
   "execution_count": 4,
   "id": "90931e37",
   "metadata": {},
   "outputs": [],
   "source": [
    "from keras.layers import * "
   ]
  },
  {
   "cell_type": "code",
   "execution_count": 5,
   "id": "ca1c34cf",
   "metadata": {},
   "outputs": [],
   "source": [
    "x = Input(shape=(3,))"
   ]
  },
  {
   "cell_type": "code",
   "execution_count": 6,
   "id": "6fdbf858",
   "metadata": {},
   "outputs": [
    {
     "name": "stdout",
     "output_type": "stream",
     "text": [
      "Metal device set to: Apple M1\n"
     ]
    }
   ],
   "source": [
    "hidden1 = Dense(128,activation='relu')(x)\n",
    "hidden2 = Dense(128,activation='relu')(hidden1)\n",
    "\n",
    "output1 = Dense(1,activation='linear')(hidden2)\n",
    "output2 = Dense(1,activation='sigmoid')(hidden2)\n"
   ]
  },
  {
   "cell_type": "code",
   "execution_count": 8,
   "id": "8a1af190",
   "metadata": {},
   "outputs": [
    {
     "name": "stdout",
     "output_type": "stream",
     "text": [
      "Model: \"model\"\n",
      "__________________________________________________________________________________________________\n",
      " Layer (type)                   Output Shape         Param #     Connected to                     \n",
      "==================================================================================================\n",
      " input_1 (InputLayer)           [(None, 3)]          0           []                               \n",
      "                                                                                                  \n",
      " dense (Dense)                  (None, 128)          512         ['input_1[0][0]']                \n",
      "                                                                                                  \n",
      " dense_1 (Dense)                (None, 128)          16512       ['dense[0][0]']                  \n",
      "                                                                                                  \n",
      " dense_2 (Dense)                (None, 1)            129         ['dense_1[0][0]']                \n",
      "                                                                                                  \n",
      " dense_3 (Dense)                (None, 1)            129         ['dense_1[0][0]']                \n",
      "                                                                                                  \n",
      "==================================================================================================\n",
      "Total params: 17,282\n",
      "Trainable params: 17,282\n",
      "Non-trainable params: 0\n",
      "__________________________________________________________________________________________________\n"
     ]
    }
   ],
   "source": [
    "model.summary()"
   ]
  },
  {
   "cell_type": "code",
   "execution_count": 9,
   "id": "72fc9f4a",
   "metadata": {},
   "outputs": [],
   "source": [
    "from keras.utils import plot_model"
   ]
  },
  {
   "cell_type": "code",
   "execution_count": 10,
   "id": "2a9787d2",
   "metadata": {},
   "outputs": [
    {
     "data": {
      "image/png": "[encoded data removed]",
      "text/plain": [
       "<IPython.core.display.Image object>"
      ]
     },
     "execution_count": 10,
     "metadata": {},
     "output_type": "execute_result"
    }
   ],
   "source": [
    "    plot_model(model)"
   ]
  },
  {
   "cell_type": "code",
   "execution_count": 11,
   "id": "49359d1c",
   "metadata": {},
   "outputs": [],
   "source": [
    "inputA = Input(shape=(32,))\n",
    "inputB = Input(shape=(128,))"
   ]
  },
  {
   "cell_type": "code",
   "execution_count": 12,
   "id": "3cec3fb3",
   "metadata": {},
   "outputs": [],
   "source": [
    "x = Dense(8,activation='relu')(inputA)\n",
    "x1 = Dense(4,activation='relu')(x)"
   ]
  },
  {
   "cell_type": "code",
   "execution_count": 13,
   "id": "b3c9e3c9",
   "metadata": {},
   "outputs": [],
   "source": [
    "y = Dense(64,activation='relu')(inputB)\n",
    "y1 = Dense(32,activation='relu')(y)\n",
    "y2 = Dense(4,activation='relu')(y1)"
   ]
  },
  {
   "cell_type": "code",
   "execution_count": 14,
   "id": "a41bd58f",
   "metadata": {},
   "outputs": [],
   "source": [
    "combined = concatenate([x1, y2])"
   ]
  },
  {
   "cell_type": "code",
   "execution_count": 15,
   "id": "0719056d",
   "metadata": {},
   "outputs": [],
   "source": [
    "z = Dense(2, activation='relu')(combined)\n",
    "z = Dense(1, activation='linear')(z)"
   ]
  },
  {
   "cell_type": "code",
   "execution_count": 16,
   "id": "d8e09909",
   "metadata": {},
   "outputs": [],
   "source": [
    "model  = Model(inputs=[inputA, inputB], outputs=z)"
   ]
  },
  {
   "cell_type": "code",
   "execution_count": 17,
   "id": "1923a22f",
   "metadata": {},
   "outputs": [
    {
     "name": "stdout",
     "output_type": "stream",
     "text": [
      "Model: \"model_1\"\n",
      "__________________________________________________________________________________________________\n",
      " Layer (type)                   Output Shape         Param #     Connected to                     \n",
      "==================================================================================================\n",
      " input_3 (InputLayer)           [(None, 128)]        0           []                               \n",
      "                                                                                                  \n",
      " input_2 (InputLayer)           [(None, 32)]         0           []                               \n",
      "                                                                                                  \n",
      " dense_6 (Dense)                (None, 64)           8256        ['input_3[0][0]']                \n",
      "                                                                                                  \n",
      " dense_4 (Dense)                (None, 8)            264         ['input_2[0][0]']                \n",
      "                                                                                                  \n",
      " dense_7 (Dense)                (None, 32)           2080        ['dense_6[0][0]']                \n",
      "                                                                                                  \n",
      " dense_5 (Dense)                (None, 4)            36          ['dense_4[0][0]']                \n",
      "                                                                                                  \n",
      " dense_8 (Dense)                (None, 4)            132         ['dense_7[0][0]']                \n",
      "                                                                                                  \n",
      " concatenate (Concatenate)      (None, 8)            0           ['dense_5[0][0]',                \n",
      "                                                                  'dense_8[0][0]']                \n",
      "                                                                                                  \n",
      " dense_9 (Dense)                (None, 2)            18          ['concatenate[0][0]']            \n",
      "                                                                                                  \n",
      " dense_10 (Dense)               (None, 1)            3           ['dense_9[0][0]']                \n",
      "                                                                                                  \n",
      "==================================================================================================\n",
      "Total params: 10,789\n",
      "Trainable params: 10,789\n",
      "Non-trainable params: 0\n",
      "__________________________________________________________________________________________________\n"
     ]
    }
   ],
   "source": [
    "model.summary()"
   ]
  },
  {
   "cell_type": "code",
   "execution_count": 18,
   "id": "ebd444bb",
   "metadata": {},
   "outputs": [
    {
     "data": {
      "image/png": "[encoded data removed]",
      "text/plain": [
       "<IPython.core.display.Image object>"
      ]
     },
     "execution_count": 18,
     "metadata": {},
     "output_type": "execute_result"
    }
   ],
   "source": [
    "plot_model(model)"
   ]
  },
  {
   "cell_type": "code",
   "execution_count": null,
   "id": "74a95468",
   "metadata": {},
   "outputs": [],
   "source": []
  }
 ],
 "metadata": {
  "kernelspec": {
   "display_name": "Python 3.9 (tensorflow)",
   "language": "python",
   "name": "tensorflow"
  },
  "language_info": {
   "codemirror_mode": {
    "name": "ipython",
    "version": 3
   },
   "file_extension": ".py",
   "mimetype": "text/x-python",
   "name": "python",
   "nbconvert_exporter": "python",
   "pygments_lexer": "ipython3",
   "version": "3.9.15"
  }
 },
 "nbformat": 4,
 "nbformat_minor": 5
}
