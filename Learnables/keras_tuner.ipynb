{
  "nbformat": 4,
  "nbformat_minor": 0,
  "metadata": {
    "colab": {
      "provenance": [],
      "gpuType": "T4"
    },
    "kernelspec": {
      "name": "python3",
      "display_name": "Python 3"
    },
    "language_info": {
      "name": "python"
    },
    "accelerator": "GPU"
  },
  "cells": [
    {
      "cell_type": "code",
      "execution_count": 3,
      "metadata": {
        "id": "VSVJfL6PRZy8"
      },
      "outputs": [],
      "source": [
        "import numpy as np\n",
        "import pandas as pd"
      ]
    },
    {
      "cell_type": "code",
      "source": [
        "df = pd.read_csv(\"diabetes.csv\")"
      ],
      "metadata": {
        "id": "TvdntBIGR2uJ"
      },
      "execution_count": 4,
      "outputs": []
    },
    {
      "cell_type": "code",
      "source": [
        "df.head(5)"
      ],
      "metadata": {
        "colab": {
          "base_uri": "https://localhost:8080/",
          "height": 270
        },
        "id": "CkF0ksTMR93b",
        "outputId": "faf68c13-d504-40b7-8be1-7a5af06010c5"
      },
      "execution_count": 5,
      "outputs": [
        {
          "output_type": "execute_result",
          "data": {
            "text/plain": [
              "   Pregnancies  Glucose  BloodPressure  SkinThickness  Insulin   BMI  \\\n",
              "0            6      148             72             35        0  33.6   \n",
              "1            1       85             66             29        0  26.6   \n",
              "2            8      183             64              0        0  23.3   \n",
              "3            1       89             66             23       94  28.1   \n",
              "4            0      137             40             35      168  43.1   \n",
              "\n",
              "   DiabetesPedigreeFunction  Age  Outcome  \n",
              "0                     0.627   50        1  \n",
              "1                     0.351   31        0  \n",
              "2                     0.672   32        1  \n",
              "3                     0.167   21        0  \n",
              "4                     2.288   33        1  "
            ],
            "text/html": [
              "\n",
              "  <div id=\"df-d5080f03-8729-4fbf-bb9a-9edc09558708\">\n",
              "    <div class=\"colab-df-container\">\n",
              "      <div>\n",
              "<style scoped>\n",
              "    .dataframe tbody tr th:only-of-type {\n",
              "        vertical-align: middle;\n",
              "    }\n",
              "\n",
              "    .dataframe tbody tr th {\n",
              "        vertical-align: top;\n",
              "    }\n",
              "\n",
              "    .dataframe thead th {\n",
              "        text-align: right;\n",
              "    }\n",
              "</style>\n",
              "<table border=\"1\" class=\"dataframe\">\n",
              "  <thead>\n",
              "    <tr style=\"text-align: right;\">\n",
              "      <th></th>\n",
              "      <th>Pregnancies</th>\n",
              "      <th>Glucose</th>\n",
              "      <th>BloodPressure</th>\n",
              "      <th>SkinThickness</th>\n",
              "      <th>Insulin</th>\n",
              "      <th>BMI</th>\n",
              "      <th>DiabetesPedigreeFunction</th>\n",
              "      <th>Age</th>\n",
              "      <th>Outcome</th>\n",
              "    </tr>\n",
              "  </thead>\n",
              "  <tbody>\n",
              "    <tr>\n",
              "      <th>0</th>\n",
              "      <td>6</td>\n",
              "      <td>148</td>\n",
              "      <td>72</td>\n",
              "      <td>35</td>\n",
              "      <td>0</td>\n",
              "      <td>33.6</td>\n",
              "      <td>0.627</td>\n",
              "      <td>50</td>\n",
              "      <td>1</td>\n",
              "    </tr>\n",
              "    <tr>\n",
              "      <th>1</th>\n",
              "      <td>1</td>\n",
              "      <td>85</td>\n",
              "      <td>66</td>\n",
              "      <td>29</td>\n",
              "      <td>0</td>\n",
              "      <td>26.6</td>\n",
              "      <td>0.351</td>\n",
              "      <td>31</td>\n",
              "      <td>0</td>\n",
              "    </tr>\n",
              "    <tr>\n",
              "      <th>2</th>\n",
              "      <td>8</td>\n",
              "      <td>183</td>\n",
              "      <td>64</td>\n",
              "      <td>0</td>\n",
              "      <td>0</td>\n",
              "      <td>23.3</td>\n",
              "      <td>0.672</td>\n",
              "      <td>32</td>\n",
              "      <td>1</td>\n",
              "    </tr>\n",
              "    <tr>\n",
              "      <th>3</th>\n",
              "      <td>1</td>\n",
              "      <td>89</td>\n",
              "      <td>66</td>\n",
              "      <td>23</td>\n",
              "      <td>94</td>\n",
              "      <td>28.1</td>\n",
              "      <td>0.167</td>\n",
              "      <td>21</td>\n",
              "      <td>0</td>\n",
              "    </tr>\n",
              "    <tr>\n",
              "      <th>4</th>\n",
              "      <td>0</td>\n",
              "      <td>137</td>\n",
              "      <td>40</td>\n",
              "      <td>35</td>\n",
              "      <td>168</td>\n",
              "      <td>43.1</td>\n",
              "      <td>2.288</td>\n",
              "      <td>33</td>\n",
              "      <td>1</td>\n",
              "    </tr>\n",
              "  </tbody>\n",
              "</table>\n",
              "</div>\n",
              "      <button class=\"colab-df-convert\" onclick=\"convertToInteractive('df-d5080f03-8729-4fbf-bb9a-9edc09558708')\"\n",
              "              title=\"Convert this dataframe to an interactive table.\"\n",
              "              style=\"display:none;\">\n",
              "        \n",
              "  <svg xmlns=\"http://www.w3.org/2000/svg\" height=\"24px\"viewBox=\"0 0 24 24\"\n",
              "       width=\"24px\">\n",
              "    <path d=\"M0 0h24v24H0V0z\" fill=\"none\"/>\n",
              "    <path d=\"M18.56 5.44l.94 2.06.94-2.06 2.06-.94-2.06-.94-.94-2.06-.94 2.06-2.06.94zm-11 1L8.5 8.5l.94-2.06 2.06-.94-2.06-.94L8.5 2.5l-.94 2.06-2.06.94zm10 10l.94 2.06.94-2.06 2.06-.94-2.06-.94-.94-2.06-.94 2.06-2.06.94z\"/><path d=\"M17.41 7.96l-1.37-1.37c-.4-.4-.92-.59-1.43-.59-.52 0-1.04.2-1.43.59L10.3 9.45l-7.72 7.72c-.78.78-.78 2.05 0 2.83L4 21.41c.39.39.9.59 1.41.59.51 0 1.02-.2 1.41-.59l7.78-7.78 2.81-2.81c.8-.78.8-2.07 0-2.86zM5.41 20L4 18.59l7.72-7.72 1.47 1.35L5.41 20z\"/>\n",
              "  </svg>\n",
              "      </button>\n",
              "      \n",
              "  <style>\n",
              "    .colab-df-container {\n",
              "      display:flex;\n",
              "      flex-wrap:wrap;\n",
              "      gap: 12px;\n",
              "    }\n",
              "\n",
              "    .colab-df-convert {\n",
              "      background-color: #E8F0FE;\n",
              "      border: none;\n",
              "      border-radius: 50%;\n",
              "      cursor: pointer;\n",
              "      display: none;\n",
              "      fill: #1967D2;\n",
              "      height: 32px;\n",
              "      padding: 0 0 0 0;\n",
              "      width: 32px;\n",
              "    }\n",
              "\n",
              "    .colab-df-convert:hover {\n",
              "      background-color: #E2EBFA;\n",
              "      box-shadow: 0px 1px 2px rgba(60, 64, 67, 0.3), 0px 1px 3px 1px rgba(60, 64, 67, 0.15);\n",
              "      fill: #174EA6;\n",
              "    }\n",
              "\n",
              "    [theme=dark] .colab-df-convert {\n",
              "      background-color: #3B4455;\n",
              "      fill: #D2E3FC;\n",
              "    }\n",
              "\n",
              "    [theme=dark] .colab-df-convert:hover {\n",
              "      background-color: #434B5C;\n",
              "      box-shadow: 0px 1px 3px 1px rgba(0, 0, 0, 0.15);\n",
              "      filter: drop-shadow(0px 1px 2px rgba(0, 0, 0, 0.3));\n",
              "      fill: #FFFFFF;\n",
              "    }\n",
              "  </style>\n",
              "\n",
              "      <script>\n",
              "        const buttonEl =\n",
              "          document.querySelector('#df-d5080f03-8729-4fbf-bb9a-9edc09558708 button.colab-df-convert');\n",
              "        buttonEl.style.display =\n",
              "          google.colab.kernel.accessAllowed ? 'block' : 'none';\n",
              "\n",
              "        async function convertToInteractive(key) {\n",
              "          const element = document.querySelector('#df-d5080f03-8729-4fbf-bb9a-9edc09558708');\n",
              "          const dataTable =\n",
              "            await google.colab.kernel.invokeFunction('convertToInteractive',\n",
              "                                                     [key], {});\n",
              "          if (!dataTable) return;\n",
              "\n",
              "          const docLinkHtml = 'Like what you see? Visit the ' +\n",
              "            '<a target=\"_blank\" href=https://colab.research.google.com/notebooks/data_table.ipynb>data table notebook</a>'\n",
              "            + ' to learn more about interactive tables.';\n",
              "          element.innerHTML = '';\n",
              "          dataTable['output_type'] = 'display_data';\n",
              "          await google.colab.output.renderOutput(dataTable, element);\n",
              "          const docLink = document.createElement('div');\n",
              "          docLink.innerHTML = docLinkHtml;\n",
              "          element.appendChild(docLink);\n",
              "        }\n",
              "      </script>\n",
              "    </div>\n",
              "  </div>\n",
              "  "
            ]
          },
          "metadata": {},
          "execution_count": 5
        }
      ]
    },
    {
      "cell_type": "code",
      "source": [
        "df.corr()[\"Outcome\"]"
      ],
      "metadata": {
        "colab": {
          "base_uri": "https://localhost:8080/"
        },
        "id": "XOBxgg3BSAbn",
        "outputId": "deed4828-5ad7-4908-f70d-216ff2c72a76"
      },
      "execution_count": 6,
      "outputs": [
        {
          "output_type": "execute_result",
          "data": {
            "text/plain": [
              "Pregnancies                 0.221898\n",
              "Glucose                     0.466581\n",
              "BloodPressure               0.065068\n",
              "SkinThickness               0.074752\n",
              "Insulin                     0.130548\n",
              "BMI                         0.292695\n",
              "DiabetesPedigreeFunction    0.173844\n",
              "Age                         0.238356\n",
              "Outcome                     1.000000\n",
              "Name: Outcome, dtype: float64"
            ]
          },
          "metadata": {},
          "execution_count": 6
        }
      ]
    },
    {
      "cell_type": "code",
      "source": [
        "from sklearn.preprocessing import StandardScaler\n",
        "scaler = StandardScaler()"
      ],
      "metadata": {
        "id": "WnH6INwlSE4d"
      },
      "execution_count": 7,
      "outputs": []
    },
    {
      "cell_type": "code",
      "source": [
        "X = df.iloc[:,:-1]\n",
        "y = df.iloc[:,-1]"
      ],
      "metadata": {
        "id": "kYC2Re8vSGjq"
      },
      "execution_count": 8,
      "outputs": []
    },
    {
      "cell_type": "code",
      "source": [
        "X = scaler.fit_transform(X)"
      ],
      "metadata": {
        "id": "1wqlkcvGSe9G"
      },
      "execution_count": 9,
      "outputs": []
    },
    {
      "cell_type": "code",
      "source": [
        "from sklearn.model_selection import train_test_split\n",
        "X_train, X_test, y_train, y_test = train_test_split(X,y,test_size = 0.2,random_state=1)"
      ],
      "metadata": {
        "id": "A1qT63iWTBaX"
      },
      "execution_count": 10,
      "outputs": []
    },
    {
      "cell_type": "code",
      "source": [
        "import tensorflow \n",
        "from tensorflow import keras\n",
        "from keras import Sequential\n",
        "from keras.layers import Dense"
      ],
      "metadata": {
        "id": "QpDiK7mRUdYw"
      },
      "execution_count": 11,
      "outputs": []
    },
    {
      "cell_type": "code",
      "source": [
        "model = Sequential()\n",
        "\n",
        "model.add(Dense(32,activation='relu',input_dim=8))\n",
        "model.add(Dense(1,activation='sigmoid'))\n",
        "\n",
        "model.compile(optimizer='Adam',loss='binary_crossentropy',metrics=['accuracy'])\n"
      ],
      "metadata": {
        "id": "uzJx7wHhUtXE"
      },
      "execution_count": 12,
      "outputs": []
    },
    {
      "cell_type": "code",
      "source": [
        "model.fit(X_train,y_train, batch_size = 32, epochs=100)"
      ],
      "metadata": {
        "colab": {
          "base_uri": "https://localhost:8080/"
        },
        "id": "Rz6NH-jAVdKn",
        "outputId": "867ec3f9-7f46-4c1e-9dd2-778071a096cb"
      },
      "execution_count": 13,
      "outputs": [
        {
          "output_type": "stream",
          "name": "stdout",
          "text": [
            "Epoch 1/100\n",
            "20/20 [==============================] - 6s 4ms/step - loss: 0.8206 - accuracy: 0.3762\n",
            "Epoch 2/100\n",
            "20/20 [==============================] - 0s 4ms/step - loss: 0.7339 - accuracy: 0.4853\n",
            "Epoch 3/100\n",
            "20/20 [==============================] - 0s 3ms/step - loss: 0.6723 - accuracy: 0.6059\n",
            "Epoch 4/100\n",
            "20/20 [==============================] - 0s 3ms/step - loss: 0.6287 - accuracy: 0.6694\n",
            "Epoch 5/100\n",
            "20/20 [==============================] - 0s 3ms/step - loss: 0.5968 - accuracy: 0.7068\n",
            "Epoch 6/100\n",
            "20/20 [==============================] - 0s 4ms/step - loss: 0.5721 - accuracy: 0.7199\n",
            "Epoch 7/100\n",
            "20/20 [==============================] - 0s 4ms/step - loss: 0.5511 - accuracy: 0.7264\n",
            "Epoch 8/100\n",
            "20/20 [==============================] - 0s 4ms/step - loss: 0.5350 - accuracy: 0.7443\n",
            "Epoch 9/100\n",
            "20/20 [==============================] - 0s 4ms/step - loss: 0.5212 - accuracy: 0.7524\n",
            "Epoch 10/100\n",
            "20/20 [==============================] - 0s 4ms/step - loss: 0.5094 - accuracy: 0.7557\n",
            "Epoch 11/100\n",
            "20/20 [==============================] - 0s 4ms/step - loss: 0.5002 - accuracy: 0.7622\n",
            "Epoch 12/100\n",
            "20/20 [==============================] - 0s 4ms/step - loss: 0.4925 - accuracy: 0.7671\n",
            "Epoch 13/100\n",
            "20/20 [==============================] - 0s 4ms/step - loss: 0.4854 - accuracy: 0.7606\n",
            "Epoch 14/100\n",
            "20/20 [==============================] - 0s 4ms/step - loss: 0.4796 - accuracy: 0.7606\n",
            "Epoch 15/100\n",
            "20/20 [==============================] - 0s 3ms/step - loss: 0.4751 - accuracy: 0.7655\n",
            "Epoch 16/100\n",
            "20/20 [==============================] - 0s 4ms/step - loss: 0.4716 - accuracy: 0.7687\n",
            "Epoch 17/100\n",
            "20/20 [==============================] - 0s 4ms/step - loss: 0.4690 - accuracy: 0.7752\n",
            "Epoch 18/100\n",
            "20/20 [==============================] - 0s 3ms/step - loss: 0.4661 - accuracy: 0.7736\n",
            "Epoch 19/100\n",
            "20/20 [==============================] - 0s 3ms/step - loss: 0.4648 - accuracy: 0.7687\n",
            "Epoch 20/100\n",
            "20/20 [==============================] - 0s 4ms/step - loss: 0.4622 - accuracy: 0.7704\n",
            "Epoch 21/100\n",
            "20/20 [==============================] - 0s 4ms/step - loss: 0.4608 - accuracy: 0.7769\n",
            "Epoch 22/100\n",
            "20/20 [==============================] - 0s 3ms/step - loss: 0.4597 - accuracy: 0.7769\n",
            "Epoch 23/100\n",
            "20/20 [==============================] - 0s 3ms/step - loss: 0.4585 - accuracy: 0.7769\n",
            "Epoch 24/100\n",
            "20/20 [==============================] - 0s 3ms/step - loss: 0.4575 - accuracy: 0.7736\n",
            "Epoch 25/100\n",
            "20/20 [==============================] - 0s 4ms/step - loss: 0.4563 - accuracy: 0.7720\n",
            "Epoch 26/100\n",
            "20/20 [==============================] - 0s 4ms/step - loss: 0.4562 - accuracy: 0.7736\n",
            "Epoch 27/100\n",
            "20/20 [==============================] - 0s 4ms/step - loss: 0.4544 - accuracy: 0.7736\n",
            "Epoch 28/100\n",
            "20/20 [==============================] - 0s 4ms/step - loss: 0.4537 - accuracy: 0.7720\n",
            "Epoch 29/100\n",
            "20/20 [==============================] - 0s 4ms/step - loss: 0.4526 - accuracy: 0.7704\n",
            "Epoch 30/100\n",
            "20/20 [==============================] - 0s 3ms/step - loss: 0.4520 - accuracy: 0.7752\n",
            "Epoch 31/100\n",
            "20/20 [==============================] - 0s 4ms/step - loss: 0.4520 - accuracy: 0.7736\n",
            "Epoch 32/100\n",
            "20/20 [==============================] - 0s 4ms/step - loss: 0.4507 - accuracy: 0.7736\n",
            "Epoch 33/100\n",
            "20/20 [==============================] - 0s 4ms/step - loss: 0.4495 - accuracy: 0.7720\n",
            "Epoch 34/100\n",
            "20/20 [==============================] - 0s 3ms/step - loss: 0.4491 - accuracy: 0.7720\n",
            "Epoch 35/100\n",
            "20/20 [==============================] - 0s 4ms/step - loss: 0.4487 - accuracy: 0.7752\n",
            "Epoch 36/100\n",
            "20/20 [==============================] - 0s 4ms/step - loss: 0.4480 - accuracy: 0.7801\n",
            "Epoch 37/100\n",
            "20/20 [==============================] - 0s 4ms/step - loss: 0.4480 - accuracy: 0.7752\n",
            "Epoch 38/100\n",
            "20/20 [==============================] - 0s 4ms/step - loss: 0.4468 - accuracy: 0.7704\n",
            "Epoch 39/100\n",
            "20/20 [==============================] - 0s 4ms/step - loss: 0.4464 - accuracy: 0.7752\n",
            "Epoch 40/100\n",
            "20/20 [==============================] - 0s 3ms/step - loss: 0.4459 - accuracy: 0.7736\n",
            "Epoch 41/100\n",
            "20/20 [==============================] - 0s 4ms/step - loss: 0.4451 - accuracy: 0.7752\n",
            "Epoch 42/100\n",
            "20/20 [==============================] - 0s 4ms/step - loss: 0.4450 - accuracy: 0.7785\n",
            "Epoch 43/100\n",
            "20/20 [==============================] - 0s 4ms/step - loss: 0.4445 - accuracy: 0.7752\n",
            "Epoch 44/100\n",
            "20/20 [==============================] - 0s 3ms/step - loss: 0.4435 - accuracy: 0.7769\n",
            "Epoch 45/100\n",
            "20/20 [==============================] - 0s 4ms/step - loss: 0.4439 - accuracy: 0.7769\n",
            "Epoch 46/100\n",
            "20/20 [==============================] - 0s 4ms/step - loss: 0.4429 - accuracy: 0.7769\n",
            "Epoch 47/100\n",
            "20/20 [==============================] - 0s 4ms/step - loss: 0.4419 - accuracy: 0.7736\n",
            "Epoch 48/100\n",
            "20/20 [==============================] - 0s 3ms/step - loss: 0.4419 - accuracy: 0.7752\n",
            "Epoch 49/100\n",
            "20/20 [==============================] - 0s 4ms/step - loss: 0.4415 - accuracy: 0.7785\n",
            "Epoch 50/100\n",
            "20/20 [==============================] - 0s 4ms/step - loss: 0.4415 - accuracy: 0.7769\n",
            "Epoch 51/100\n",
            "20/20 [==============================] - 0s 4ms/step - loss: 0.4403 - accuracy: 0.7785\n",
            "Epoch 52/100\n",
            "20/20 [==============================] - 0s 4ms/step - loss: 0.4399 - accuracy: 0.7769\n",
            "Epoch 53/100\n",
            "20/20 [==============================] - 0s 4ms/step - loss: 0.4397 - accuracy: 0.7769\n",
            "Epoch 54/100\n",
            "20/20 [==============================] - 0s 4ms/step - loss: 0.4390 - accuracy: 0.7769\n",
            "Epoch 55/100\n",
            "20/20 [==============================] - 0s 4ms/step - loss: 0.4385 - accuracy: 0.7752\n",
            "Epoch 56/100\n",
            "20/20 [==============================] - 0s 4ms/step - loss: 0.4384 - accuracy: 0.7752\n",
            "Epoch 57/100\n",
            "20/20 [==============================] - 0s 4ms/step - loss: 0.4380 - accuracy: 0.7801\n",
            "Epoch 58/100\n",
            "20/20 [==============================] - 0s 4ms/step - loss: 0.4377 - accuracy: 0.7785\n",
            "Epoch 59/100\n",
            "20/20 [==============================] - 0s 4ms/step - loss: 0.4371 - accuracy: 0.7785\n",
            "Epoch 60/100\n",
            "20/20 [==============================] - 0s 4ms/step - loss: 0.4365 - accuracy: 0.7785\n",
            "Epoch 61/100\n",
            "20/20 [==============================] - 0s 4ms/step - loss: 0.4365 - accuracy: 0.7801\n",
            "Epoch 62/100\n",
            "20/20 [==============================] - 0s 4ms/step - loss: 0.4362 - accuracy: 0.7801\n",
            "Epoch 63/100\n",
            "20/20 [==============================] - 0s 4ms/step - loss: 0.4355 - accuracy: 0.7801\n",
            "Epoch 64/100\n",
            "20/20 [==============================] - 0s 4ms/step - loss: 0.4352 - accuracy: 0.7818\n",
            "Epoch 65/100\n",
            "20/20 [==============================] - 0s 4ms/step - loss: 0.4344 - accuracy: 0.7834\n",
            "Epoch 66/100\n",
            "20/20 [==============================] - 0s 3ms/step - loss: 0.4342 - accuracy: 0.7801\n",
            "Epoch 67/100\n",
            "20/20 [==============================] - 0s 4ms/step - loss: 0.4341 - accuracy: 0.7801\n",
            "Epoch 68/100\n",
            "20/20 [==============================] - 0s 4ms/step - loss: 0.4335 - accuracy: 0.7785\n",
            "Epoch 69/100\n",
            "20/20 [==============================] - 0s 4ms/step - loss: 0.4340 - accuracy: 0.7769\n",
            "Epoch 70/100\n",
            "20/20 [==============================] - 0s 4ms/step - loss: 0.4329 - accuracy: 0.7785\n",
            "Epoch 71/100\n",
            "20/20 [==============================] - 0s 4ms/step - loss: 0.4322 - accuracy: 0.7866\n",
            "Epoch 72/100\n",
            "20/20 [==============================] - 0s 4ms/step - loss: 0.4318 - accuracy: 0.7785\n",
            "Epoch 73/100\n",
            "20/20 [==============================] - 0s 3ms/step - loss: 0.4316 - accuracy: 0.7834\n",
            "Epoch 74/100\n",
            "20/20 [==============================] - 0s 4ms/step - loss: 0.4315 - accuracy: 0.7801\n",
            "Epoch 75/100\n",
            "20/20 [==============================] - 0s 4ms/step - loss: 0.4307 - accuracy: 0.7801\n",
            "Epoch 76/100\n",
            "20/20 [==============================] - 0s 4ms/step - loss: 0.4306 - accuracy: 0.7801\n",
            "Epoch 77/100\n",
            "20/20 [==============================] - 0s 3ms/step - loss: 0.4298 - accuracy: 0.7785\n",
            "Epoch 78/100\n",
            "20/20 [==============================] - 0s 3ms/step - loss: 0.4297 - accuracy: 0.7801\n",
            "Epoch 79/100\n",
            "20/20 [==============================] - 0s 3ms/step - loss: 0.4291 - accuracy: 0.7850\n",
            "Epoch 80/100\n",
            "20/20 [==============================] - 0s 6ms/step - loss: 0.4291 - accuracy: 0.7818\n",
            "Epoch 81/100\n",
            "20/20 [==============================] - 0s 6ms/step - loss: 0.4290 - accuracy: 0.7769\n",
            "Epoch 82/100\n",
            "20/20 [==============================] - 0s 5ms/step - loss: 0.4282 - accuracy: 0.7785\n",
            "Epoch 83/100\n",
            "20/20 [==============================] - 0s 5ms/step - loss: 0.4282 - accuracy: 0.7866\n",
            "Epoch 84/100\n",
            "20/20 [==============================] - 0s 5ms/step - loss: 0.4273 - accuracy: 0.7866\n",
            "Epoch 85/100\n",
            "20/20 [==============================] - 0s 5ms/step - loss: 0.4274 - accuracy: 0.7850\n",
            "Epoch 86/100\n",
            "20/20 [==============================] - 0s 5ms/step - loss: 0.4269 - accuracy: 0.7834\n",
            "Epoch 87/100\n",
            "20/20 [==============================] - 0s 5ms/step - loss: 0.4264 - accuracy: 0.7834\n",
            "Epoch 88/100\n",
            "20/20 [==============================] - 0s 5ms/step - loss: 0.4261 - accuracy: 0.7850\n",
            "Epoch 89/100\n",
            "20/20 [==============================] - 0s 5ms/step - loss: 0.4255 - accuracy: 0.7850\n",
            "Epoch 90/100\n",
            "20/20 [==============================] - 0s 5ms/step - loss: 0.4251 - accuracy: 0.7850\n",
            "Epoch 91/100\n",
            "20/20 [==============================] - 0s 5ms/step - loss: 0.4249 - accuracy: 0.7850\n",
            "Epoch 92/100\n",
            "20/20 [==============================] - 0s 5ms/step - loss: 0.4246 - accuracy: 0.7866\n",
            "Epoch 93/100\n",
            "20/20 [==============================] - 0s 5ms/step - loss: 0.4243 - accuracy: 0.7850\n",
            "Epoch 94/100\n",
            "20/20 [==============================] - 0s 5ms/step - loss: 0.4239 - accuracy: 0.7883\n",
            "Epoch 95/100\n",
            "20/20 [==============================] - 0s 5ms/step - loss: 0.4236 - accuracy: 0.7899\n",
            "Epoch 96/100\n",
            "20/20 [==============================] - 0s 6ms/step - loss: 0.4234 - accuracy: 0.7915\n",
            "Epoch 97/100\n",
            "20/20 [==============================] - 0s 5ms/step - loss: 0.4232 - accuracy: 0.7948\n",
            "Epoch 98/100\n",
            "20/20 [==============================] - 0s 5ms/step - loss: 0.4222 - accuracy: 0.7915\n",
            "Epoch 99/100\n",
            "20/20 [==============================] - 0s 5ms/step - loss: 0.4221 - accuracy: 0.7932\n",
            "Epoch 100/100\n",
            "20/20 [==============================] - 0s 5ms/step - loss: 0.4218 - accuracy: 0.7932\n"
          ]
        },
        {
          "output_type": "execute_result",
          "data": {
            "text/plain": [
              "<keras.callbacks.History at 0x7f9a60db58d0>"
            ]
          },
          "metadata": {},
          "execution_count": 13
        }
      ]
    },
    {
      "cell_type": "code",
      "source": [
        " # 1. how to select appor. optimizer\n",
        " # 2. No. of nodes in a layer\n",
        " # 3. No. of hidden layer in a model\n",
        " # 4. All the implementation in a single model  "
      ],
      "metadata": {
        "id": "aje2AQJDWBUj"
      },
      "execution_count": 14,
      "outputs": []
    },
    {
      "cell_type": "code",
      "source": [
        "!pip install -U keras-tuner\n"
      ],
      "metadata": {
        "colab": {
          "base_uri": "https://localhost:8080/"
        },
        "id": "f1hsdgs8bvy9",
        "outputId": "366555e4-0392-4e56-e4de-1efc1925183c"
      },
      "execution_count": 15,
      "outputs": [
        {
          "output_type": "stream",
          "name": "stdout",
          "text": [
            "Looking in indexes: https://pypi.org/simple, https://us-python.pkg.dev/colab-wheels/public/simple/\n",
            "Collecting keras-tuner\n",
            "  Downloading keras_tuner-1.3.5-py3-none-any.whl (176 kB)\n",
            "\u001b[2K     \u001b[90m━━━━━━━━━━━━━━━━━━━━━━━━━━━━━━━━━━━━━━━\u001b[0m \u001b[32m176.1/176.1 kB\u001b[0m \u001b[31m9.9 MB/s\u001b[0m eta \u001b[36m0:00:00\u001b[0m\n",
            "\u001b[?25hRequirement already satisfied: packaging in /usr/local/lib/python3.10/dist-packages (from keras-tuner) (23.1)\n",
            "Requirement already satisfied: requests in /usr/local/lib/python3.10/dist-packages (from keras-tuner) (2.27.1)\n",
            "Collecting kt-legacy (from keras-tuner)\n",
            "  Downloading kt_legacy-1.0.5-py3-none-any.whl (9.6 kB)\n",
            "Requirement already satisfied: urllib3<1.27,>=1.21.1 in /usr/local/lib/python3.10/dist-packages (from requests->keras-tuner) (1.26.15)\n",
            "Requirement already satisfied: certifi>=2017.4.17 in /usr/local/lib/python3.10/dist-packages (from requests->keras-tuner) (2022.12.7)\n",
            "Requirement already satisfied: charset-normalizer~=2.0.0 in /usr/local/lib/python3.10/dist-packages (from requests->keras-tuner) (2.0.12)\n",
            "Requirement already satisfied: idna<4,>=2.5 in /usr/local/lib/python3.10/dist-packages (from requests->keras-tuner) (3.4)\n",
            "Installing collected packages: kt-legacy, keras-tuner\n",
            "Successfully installed keras-tuner-1.3.5 kt-legacy-1.0.5\n"
          ]
        }
      ]
    },
    {
      "cell_type": "markdown",
      "source": [
        "Problem 1 . How to Select appropriate optimizer."
      ],
      "metadata": {
        "id": "Xnc8e8ewYHZo"
      }
    },
    {
      "cell_type": "code",
      "source": [
        "import keras_tuner as kt"
      ],
      "metadata": {
        "id": "njwODmAAXzxq"
      },
      "execution_count": 16,
      "outputs": []
    },
    {
      "cell_type": "code",
      "source": [
        "# hp => hyper params\n",
        "def build_model(hp):\n",
        "  model = Sequential()\n",
        "\n",
        "  model.add(Dense(32, activation='relu', input_dim=8))\n",
        "  model.add(Dense(1,activation=\"sigmoid\"))\n",
        "\n",
        "  optimizer = hp.Choice('optimizer', values = ['adam','sgd','rmsprop','adadelta'])\n",
        "  model.compile(optimizer=optimizer, loss ='binary_crossentropy', metrics='accuracy')\n",
        "  \n",
        "  return model"
      ],
      "metadata": {
        "id": "s4AcXkXNX3Hh"
      },
      "execution_count": 17,
      "outputs": []
    },
    {
      "cell_type": "code",
      "source": [
        "tuner = kt.RandomSearch(build_model,\n",
        "                        objective='val_accuracy',\n",
        "                        max_trials=5)"
      ],
      "metadata": {
        "id": "sO3AoCYcZfx-"
      },
      "execution_count": 18,
      "outputs": []
    },
    {
      "cell_type": "code",
      "source": [
        "tuner.search(X_train,y_train,epochs=6,validation_data=(X_test,y_test))\n"
      ],
      "metadata": {
        "id": "AyU_cEDHZ0QZ",
        "colab": {
          "base_uri": "https://localhost:8080/"
        },
        "outputId": "8d26cfc0-1a35-4f58-d44a-872775187ced"
      },
      "execution_count": 19,
      "outputs": [
        {
          "output_type": "stream",
          "name": "stdout",
          "text": [
            "Trial 4 Complete [00h 00m 05s]\n",
            "val_accuracy: 0.6753246784210205\n",
            "\n",
            "Best val_accuracy So Far: 0.7662337422370911\n",
            "Total elapsed time: 00h 00m 13s\n"
          ]
        }
      ]
    },
    {
      "cell_type": "code",
      "source": [
        "tuner.get_best_hyperparameters()[0].values"
      ],
      "metadata": {
        "colab": {
          "base_uri": "https://localhost:8080/"
        },
        "id": "_vB2yKg3aF_Z",
        "outputId": "9cc2a922-adbf-4d24-ad67-24d54455f28e"
      },
      "execution_count": 20,
      "outputs": [
        {
          "output_type": "execute_result",
          "data": {
            "text/plain": [
              "{'optimizer': 'adam'}"
            ]
          },
          "metadata": {},
          "execution_count": 20
        }
      ]
    },
    {
      "cell_type": "code",
      "source": [
        "model =  tuner.get_best_models(num_models=1)[0]"
      ],
      "metadata": {
        "id": "E6grj5cCaZfA"
      },
      "execution_count": 21,
      "outputs": []
    },
    {
      "cell_type": "code",
      "source": [
        "model.summary()"
      ],
      "metadata": {
        "colab": {
          "base_uri": "https://localhost:8080/"
        },
        "id": "iE4kYeOtawkO",
        "outputId": "8463cba9-d5bd-4d28-fe9c-4fb9cc5c4245"
      },
      "execution_count": 22,
      "outputs": [
        {
          "output_type": "stream",
          "name": "stdout",
          "text": [
            "Model: \"sequential\"\n",
            "_________________________________________________________________\n",
            " Layer (type)                Output Shape              Param #   \n",
            "=================================================================\n",
            " dense (Dense)               (None, 32)                288       \n",
            "                                                                 \n",
            " dense_1 (Dense)             (None, 1)                 33        \n",
            "                                                                 \n",
            "=================================================================\n",
            "Total params: 321\n",
            "Trainable params: 321\n",
            "Non-trainable params: 0\n",
            "_________________________________________________________________\n"
          ]
        }
      ]
    },
    {
      "cell_type": "code",
      "source": [
        "model.fit( X_train,y_train,batch_size=32,epochs=100,initial_epoch=6, validation_data=(X_test,y_test))"
      ],
      "metadata": {
        "colab": {
          "base_uri": "https://localhost:8080/"
        },
        "id": "WT_vv0K5axr8",
        "outputId": "5e672ecc-8054-4774-b10b-8530f4cdafd3"
      },
      "execution_count": 23,
      "outputs": [
        {
          "output_type": "stream",
          "name": "stdout",
          "text": [
            "Epoch 7/100\n",
            "20/20 [==============================] - 2s 46ms/step - loss: 0.6011 - accuracy: 0.7313 - val_loss: 0.5907 - val_accuracy: 0.7662\n",
            "Epoch 8/100\n",
            "20/20 [==============================] - 0s 10ms/step - loss: 0.5797 - accuracy: 0.7427 - val_loss: 0.5694 - val_accuracy: 0.7792\n",
            "Epoch 9/100\n",
            "20/20 [==============================] - 0s 10ms/step - loss: 0.5618 - accuracy: 0.7524 - val_loss: 0.5539 - val_accuracy: 0.7597\n",
            "Epoch 10/100\n",
            "20/20 [==============================] - 0s 9ms/step - loss: 0.5467 - accuracy: 0.7557 - val_loss: 0.5395 - val_accuracy: 0.7857\n",
            "Epoch 11/100\n",
            "20/20 [==============================] - 0s 6ms/step - loss: 0.5331 - accuracy: 0.7590 - val_loss: 0.5268 - val_accuracy: 0.7727\n",
            "Epoch 12/100\n",
            "20/20 [==============================] - 0s 6ms/step - loss: 0.5215 - accuracy: 0.7606 - val_loss: 0.5166 - val_accuracy: 0.7727\n",
            "Epoch 13/100\n",
            "20/20 [==============================] - 0s 6ms/step - loss: 0.5117 - accuracy: 0.7655 - val_loss: 0.5080 - val_accuracy: 0.7727\n",
            "Epoch 14/100\n",
            "20/20 [==============================] - 0s 6ms/step - loss: 0.5026 - accuracy: 0.7638 - val_loss: 0.4995 - val_accuracy: 0.7727\n",
            "Epoch 15/100\n",
            "20/20 [==============================] - 0s 6ms/step - loss: 0.4948 - accuracy: 0.7671 - val_loss: 0.4915 - val_accuracy: 0.7792\n",
            "Epoch 16/100\n",
            "20/20 [==============================] - 0s 6ms/step - loss: 0.4882 - accuracy: 0.7687 - val_loss: 0.4867 - val_accuracy: 0.7857\n",
            "Epoch 17/100\n",
            "20/20 [==============================] - 0s 6ms/step - loss: 0.4826 - accuracy: 0.7736 - val_loss: 0.4817 - val_accuracy: 0.7857\n",
            "Epoch 18/100\n",
            "20/20 [==============================] - 0s 6ms/step - loss: 0.4774 - accuracy: 0.7785 - val_loss: 0.4781 - val_accuracy: 0.7857\n",
            "Epoch 19/100\n",
            "20/20 [==============================] - 0s 6ms/step - loss: 0.4734 - accuracy: 0.7785 - val_loss: 0.4765 - val_accuracy: 0.7727\n",
            "Epoch 20/100\n",
            "20/20 [==============================] - 0s 6ms/step - loss: 0.4696 - accuracy: 0.7801 - val_loss: 0.4742 - val_accuracy: 0.7792\n",
            "Epoch 21/100\n",
            "20/20 [==============================] - 0s 6ms/step - loss: 0.4662 - accuracy: 0.7818 - val_loss: 0.4724 - val_accuracy: 0.7792\n",
            "Epoch 22/100\n",
            "20/20 [==============================] - 0s 5ms/step - loss: 0.4638 - accuracy: 0.7818 - val_loss: 0.4703 - val_accuracy: 0.7727\n",
            "Epoch 23/100\n",
            "20/20 [==============================] - 0s 6ms/step - loss: 0.4607 - accuracy: 0.7866 - val_loss: 0.4686 - val_accuracy: 0.7727\n",
            "Epoch 24/100\n",
            "20/20 [==============================] - 0s 7ms/step - loss: 0.4590 - accuracy: 0.7915 - val_loss: 0.4675 - val_accuracy: 0.7792\n",
            "Epoch 25/100\n",
            "20/20 [==============================] - 0s 8ms/step - loss: 0.4570 - accuracy: 0.7899 - val_loss: 0.4671 - val_accuracy: 0.7792\n",
            "Epoch 26/100\n",
            "20/20 [==============================] - 0s 8ms/step - loss: 0.4550 - accuracy: 0.7915 - val_loss: 0.4667 - val_accuracy: 0.7792\n",
            "Epoch 27/100\n",
            "20/20 [==============================] - 0s 5ms/step - loss: 0.4536 - accuracy: 0.7899 - val_loss: 0.4660 - val_accuracy: 0.7792\n",
            "Epoch 28/100\n",
            "20/20 [==============================] - 0s 7ms/step - loss: 0.4522 - accuracy: 0.7915 - val_loss: 0.4668 - val_accuracy: 0.7857\n",
            "Epoch 29/100\n",
            "20/20 [==============================] - 0s 5ms/step - loss: 0.4511 - accuracy: 0.7915 - val_loss: 0.4673 - val_accuracy: 0.7922\n",
            "Epoch 30/100\n",
            "20/20 [==============================] - 0s 5ms/step - loss: 0.4500 - accuracy: 0.7915 - val_loss: 0.4686 - val_accuracy: 0.7922\n",
            "Epoch 31/100\n",
            "20/20 [==============================] - 0s 6ms/step - loss: 0.4487 - accuracy: 0.7915 - val_loss: 0.4662 - val_accuracy: 0.7792\n",
            "Epoch 32/100\n",
            "20/20 [==============================] - 0s 6ms/step - loss: 0.4476 - accuracy: 0.7948 - val_loss: 0.4652 - val_accuracy: 0.7727\n",
            "Epoch 33/100\n",
            "20/20 [==============================] - 0s 5ms/step - loss: 0.4466 - accuracy: 0.7915 - val_loss: 0.4653 - val_accuracy: 0.7792\n",
            "Epoch 34/100\n",
            "20/20 [==============================] - 0s 7ms/step - loss: 0.4459 - accuracy: 0.7899 - val_loss: 0.4665 - val_accuracy: 0.7857\n",
            "Epoch 35/100\n",
            "20/20 [==============================] - 0s 6ms/step - loss: 0.4451 - accuracy: 0.7932 - val_loss: 0.4662 - val_accuracy: 0.7857\n",
            "Epoch 36/100\n",
            "20/20 [==============================] - 0s 5ms/step - loss: 0.4442 - accuracy: 0.7915 - val_loss: 0.4659 - val_accuracy: 0.7857\n",
            "Epoch 37/100\n",
            "20/20 [==============================] - 0s 6ms/step - loss: 0.4435 - accuracy: 0.7899 - val_loss: 0.4658 - val_accuracy: 0.7857\n",
            "Epoch 38/100\n",
            "20/20 [==============================] - 0s 6ms/step - loss: 0.4428 - accuracy: 0.7932 - val_loss: 0.4647 - val_accuracy: 0.7857\n",
            "Epoch 39/100\n",
            "20/20 [==============================] - 0s 6ms/step - loss: 0.4418 - accuracy: 0.7915 - val_loss: 0.4649 - val_accuracy: 0.7857\n",
            "Epoch 40/100\n",
            "20/20 [==============================] - 0s 6ms/step - loss: 0.4413 - accuracy: 0.7932 - val_loss: 0.4641 - val_accuracy: 0.7857\n",
            "Epoch 41/100\n",
            "20/20 [==============================] - 0s 6ms/step - loss: 0.4404 - accuracy: 0.7915 - val_loss: 0.4656 - val_accuracy: 0.7857\n",
            "Epoch 42/100\n",
            "20/20 [==============================] - 0s 6ms/step - loss: 0.4399 - accuracy: 0.7964 - val_loss: 0.4656 - val_accuracy: 0.7857\n",
            "Epoch 43/100\n",
            "20/20 [==============================] - 0s 6ms/step - loss: 0.4393 - accuracy: 0.7948 - val_loss: 0.4657 - val_accuracy: 0.7857\n",
            "Epoch 44/100\n",
            "20/20 [==============================] - 0s 6ms/step - loss: 0.4393 - accuracy: 0.7932 - val_loss: 0.4661 - val_accuracy: 0.7792\n",
            "Epoch 45/100\n",
            "20/20 [==============================] - 0s 6ms/step - loss: 0.4381 - accuracy: 0.7948 - val_loss: 0.4655 - val_accuracy: 0.7792\n",
            "Epoch 46/100\n",
            "20/20 [==============================] - 0s 6ms/step - loss: 0.4373 - accuracy: 0.7980 - val_loss: 0.4651 - val_accuracy: 0.7792\n",
            "Epoch 47/100\n",
            "20/20 [==============================] - 0s 5ms/step - loss: 0.4369 - accuracy: 0.7948 - val_loss: 0.4650 - val_accuracy: 0.7792\n",
            "Epoch 48/100\n",
            "20/20 [==============================] - 0s 6ms/step - loss: 0.4359 - accuracy: 0.7964 - val_loss: 0.4651 - val_accuracy: 0.7857\n",
            "Epoch 49/100\n",
            "20/20 [==============================] - 0s 5ms/step - loss: 0.4356 - accuracy: 0.7997 - val_loss: 0.4653 - val_accuracy: 0.7857\n",
            "Epoch 50/100\n",
            "20/20 [==============================] - 0s 5ms/step - loss: 0.4350 - accuracy: 0.8013 - val_loss: 0.4654 - val_accuracy: 0.7857\n",
            "Epoch 51/100\n",
            "20/20 [==============================] - 0s 7ms/step - loss: 0.4345 - accuracy: 0.7997 - val_loss: 0.4649 - val_accuracy: 0.7857\n",
            "Epoch 52/100\n",
            "20/20 [==============================] - 0s 6ms/step - loss: 0.4338 - accuracy: 0.7932 - val_loss: 0.4648 - val_accuracy: 0.7857\n",
            "Epoch 53/100\n",
            "20/20 [==============================] - 0s 6ms/step - loss: 0.4333 - accuracy: 0.7932 - val_loss: 0.4646 - val_accuracy: 0.7857\n",
            "Epoch 54/100\n",
            "20/20 [==============================] - 0s 5ms/step - loss: 0.4329 - accuracy: 0.7997 - val_loss: 0.4648 - val_accuracy: 0.7987\n",
            "Epoch 55/100\n",
            "20/20 [==============================] - 0s 6ms/step - loss: 0.4322 - accuracy: 0.7948 - val_loss: 0.4645 - val_accuracy: 0.7987\n",
            "Epoch 56/100\n",
            "20/20 [==============================] - 0s 6ms/step - loss: 0.4317 - accuracy: 0.7948 - val_loss: 0.4643 - val_accuracy: 0.8117\n",
            "Epoch 57/100\n",
            "20/20 [==============================] - 0s 8ms/step - loss: 0.4314 - accuracy: 0.7932 - val_loss: 0.4654 - val_accuracy: 0.8052\n",
            "Epoch 58/100\n",
            "20/20 [==============================] - 0s 15ms/step - loss: 0.4308 - accuracy: 0.7915 - val_loss: 0.4642 - val_accuracy: 0.8052\n",
            "Epoch 59/100\n",
            "20/20 [==============================] - 0s 15ms/step - loss: 0.4309 - accuracy: 0.7964 - val_loss: 0.4657 - val_accuracy: 0.7987\n",
            "Epoch 60/100\n",
            "20/20 [==============================] - 0s 14ms/step - loss: 0.4299 - accuracy: 0.7964 - val_loss: 0.4650 - val_accuracy: 0.8052\n",
            "Epoch 61/100\n",
            "20/20 [==============================] - 0s 16ms/step - loss: 0.4290 - accuracy: 0.7964 - val_loss: 0.4649 - val_accuracy: 0.8052\n",
            "Epoch 62/100\n",
            "20/20 [==============================] - 0s 17ms/step - loss: 0.4286 - accuracy: 0.7948 - val_loss: 0.4648 - val_accuracy: 0.7987\n",
            "Epoch 63/100\n",
            "20/20 [==============================] - 0s 18ms/step - loss: 0.4283 - accuracy: 0.7899 - val_loss: 0.4635 - val_accuracy: 0.8052\n",
            "Epoch 64/100\n",
            "20/20 [==============================] - 0s 18ms/step - loss: 0.4279 - accuracy: 0.7915 - val_loss: 0.4631 - val_accuracy: 0.8052\n",
            "Epoch 65/100\n",
            "20/20 [==============================] - 0s 19ms/step - loss: 0.4283 - accuracy: 0.7915 - val_loss: 0.4632 - val_accuracy: 0.8117\n",
            "Epoch 66/100\n",
            "20/20 [==============================] - 0s 15ms/step - loss: 0.4274 - accuracy: 0.7948 - val_loss: 0.4626 - val_accuracy: 0.8117\n",
            "Epoch 67/100\n",
            "20/20 [==============================] - 0s 16ms/step - loss: 0.4270 - accuracy: 0.7948 - val_loss: 0.4624 - val_accuracy: 0.8052\n",
            "Epoch 68/100\n",
            "20/20 [==============================] - 0s 14ms/step - loss: 0.4260 - accuracy: 0.7948 - val_loss: 0.4626 - val_accuracy: 0.8052\n",
            "Epoch 69/100\n",
            "20/20 [==============================] - 0s 11ms/step - loss: 0.4256 - accuracy: 0.7948 - val_loss: 0.4623 - val_accuracy: 0.8052\n",
            "Epoch 70/100\n",
            "20/20 [==============================] - 0s 12ms/step - loss: 0.4250 - accuracy: 0.7948 - val_loss: 0.4616 - val_accuracy: 0.8117\n",
            "Epoch 71/100\n",
            "20/20 [==============================] - 0s 12ms/step - loss: 0.4251 - accuracy: 0.8046 - val_loss: 0.4618 - val_accuracy: 0.8117\n",
            "Epoch 72/100\n",
            "20/20 [==============================] - 0s 8ms/step - loss: 0.4245 - accuracy: 0.8029 - val_loss: 0.4623 - val_accuracy: 0.8117\n",
            "Epoch 73/100\n",
            "20/20 [==============================] - 0s 10ms/step - loss: 0.4244 - accuracy: 0.8046 - val_loss: 0.4634 - val_accuracy: 0.8117\n",
            "Epoch 74/100\n",
            "20/20 [==============================] - 0s 14ms/step - loss: 0.4235 - accuracy: 0.8062 - val_loss: 0.4635 - val_accuracy: 0.8117\n",
            "Epoch 75/100\n",
            "20/20 [==============================] - 0s 9ms/step - loss: 0.4231 - accuracy: 0.7980 - val_loss: 0.4634 - val_accuracy: 0.8052\n",
            "Epoch 76/100\n",
            "20/20 [==============================] - 0s 9ms/step - loss: 0.4228 - accuracy: 0.7932 - val_loss: 0.4643 - val_accuracy: 0.8052\n",
            "Epoch 77/100\n",
            "20/20 [==============================] - 0s 11ms/step - loss: 0.4221 - accuracy: 0.7964 - val_loss: 0.4632 - val_accuracy: 0.8052\n",
            "Epoch 78/100\n",
            "20/20 [==============================] - 0s 9ms/step - loss: 0.4224 - accuracy: 0.7980 - val_loss: 0.4617 - val_accuracy: 0.8117\n",
            "Epoch 79/100\n",
            "20/20 [==============================] - 0s 10ms/step - loss: 0.4214 - accuracy: 0.7980 - val_loss: 0.4622 - val_accuracy: 0.7987\n",
            "Epoch 80/100\n",
            "20/20 [==============================] - 0s 10ms/step - loss: 0.4214 - accuracy: 0.8013 - val_loss: 0.4627 - val_accuracy: 0.7987\n",
            "Epoch 81/100\n",
            "20/20 [==============================] - 0s 12ms/step - loss: 0.4208 - accuracy: 0.8013 - val_loss: 0.4625 - val_accuracy: 0.8052\n",
            "Epoch 82/100\n",
            "20/20 [==============================] - 0s 15ms/step - loss: 0.4204 - accuracy: 0.8013 - val_loss: 0.4633 - val_accuracy: 0.8182\n",
            "Epoch 83/100\n",
            "20/20 [==============================] - 0s 13ms/step - loss: 0.4203 - accuracy: 0.8013 - val_loss: 0.4639 - val_accuracy: 0.8117\n",
            "Epoch 84/100\n",
            "20/20 [==============================] - 0s 14ms/step - loss: 0.4201 - accuracy: 0.8078 - val_loss: 0.4630 - val_accuracy: 0.8247\n",
            "Epoch 85/100\n",
            "20/20 [==============================] - 0s 8ms/step - loss: 0.4199 - accuracy: 0.8062 - val_loss: 0.4625 - val_accuracy: 0.8247\n",
            "Epoch 86/100\n",
            "20/20 [==============================] - 0s 9ms/step - loss: 0.4201 - accuracy: 0.8046 - val_loss: 0.4628 - val_accuracy: 0.7987\n",
            "Epoch 87/100\n",
            "20/20 [==============================] - 0s 14ms/step - loss: 0.4186 - accuracy: 0.8013 - val_loss: 0.4626 - val_accuracy: 0.8117\n",
            "Epoch 88/100\n",
            "20/20 [==============================] - 0s 16ms/step - loss: 0.4190 - accuracy: 0.8029 - val_loss: 0.4624 - val_accuracy: 0.8312\n",
            "Epoch 89/100\n",
            "20/20 [==============================] - 0s 11ms/step - loss: 0.4188 - accuracy: 0.8013 - val_loss: 0.4620 - val_accuracy: 0.8117\n",
            "Epoch 90/100\n",
            "20/20 [==============================] - 0s 9ms/step - loss: 0.4192 - accuracy: 0.8046 - val_loss: 0.4644 - val_accuracy: 0.8052\n",
            "Epoch 91/100\n",
            "20/20 [==============================] - 0s 6ms/step - loss: 0.4175 - accuracy: 0.8013 - val_loss: 0.4620 - val_accuracy: 0.8052\n",
            "Epoch 92/100\n",
            "20/20 [==============================] - 0s 9ms/step - loss: 0.4177 - accuracy: 0.7980 - val_loss: 0.4612 - val_accuracy: 0.8052\n",
            "Epoch 93/100\n",
            "20/20 [==============================] - 0s 12ms/step - loss: 0.4173 - accuracy: 0.7980 - val_loss: 0.4625 - val_accuracy: 0.8052\n",
            "Epoch 94/100\n",
            "20/20 [==============================] - 0s 9ms/step - loss: 0.4169 - accuracy: 0.7997 - val_loss: 0.4623 - val_accuracy: 0.8052\n",
            "Epoch 95/100\n",
            "20/20 [==============================] - 0s 10ms/step - loss: 0.4167 - accuracy: 0.8013 - val_loss: 0.4610 - val_accuracy: 0.8052\n",
            "Epoch 96/100\n",
            "20/20 [==============================] - 0s 11ms/step - loss: 0.4161 - accuracy: 0.8013 - val_loss: 0.4616 - val_accuracy: 0.8052\n",
            "Epoch 97/100\n",
            "20/20 [==============================] - 0s 12ms/step - loss: 0.4164 - accuracy: 0.7980 - val_loss: 0.4607 - val_accuracy: 0.8052\n",
            "Epoch 98/100\n",
            "20/20 [==============================] - 0s 12ms/step - loss: 0.4156 - accuracy: 0.8013 - val_loss: 0.4614 - val_accuracy: 0.8052\n",
            "Epoch 99/100\n",
            "20/20 [==============================] - 0s 10ms/step - loss: 0.4153 - accuracy: 0.7948 - val_loss: 0.4602 - val_accuracy: 0.8117\n",
            "Epoch 100/100\n",
            "20/20 [==============================] - 0s 12ms/step - loss: 0.4149 - accuracy: 0.8013 - val_loss: 0.4616 - val_accuracy: 0.8117\n"
          ]
        },
        {
          "output_type": "execute_result",
          "data": {
            "text/plain": [
              "<keras.callbacks.History at 0x7f99ec487580>"
            ]
          },
          "metadata": {},
          "execution_count": 23
        }
      ]
    },
    {
      "cell_type": "markdown",
      "source": [
        "How to select no. of neurons for a layer\n"
      ],
      "metadata": {
        "id": "fNOFMm7ke--R"
      }
    },
    {
      "cell_type": "code",
      "source": [
        "def build_model(hp):\n",
        "\n",
        "  model = Sequential()\n",
        "\n",
        "  units = hp.Int('units',min_value = 8,max_value=128,step=8)\n",
        "  model.add(Dense(units=units,activation='relu',input_dim=8)) \n",
        "  model.add(Dense(1,activation='sigmoid'))\n",
        "\n",
        "  model.compile(optimizer='rmsprop',loss='binary_crossentropy',metrics=['accuracy'])\n",
        "  return model"
      ],
      "metadata": {
        "id": "UM5PIi16eX3S"
      },
      "execution_count": 24,
      "outputs": []
    },
    {
      "cell_type": "code",
      "source": [
        "tuner = kt.RandomSearch(build_model, \n",
        "                        objective='val_accuracy',\n",
        "                        max_trials=6,\n",
        "                        directory='mydir',\n",
        "                        project_name='tuner')"
      ],
      "metadata": {
        "id": "GoCcXOnOfJdG"
      },
      "execution_count": 25,
      "outputs": []
    },
    {
      "cell_type": "code",
      "source": [
        "tuner.search(X_train,y_train,epochs=6,validation_data=(X_test,y_test))"
      ],
      "metadata": {
        "colab": {
          "base_uri": "https://localhost:8080/"
        },
        "id": "wXJJTM5GfGxg",
        "outputId": "baaa52fd-078d-475d-e509-d900d35ada30"
      },
      "execution_count": 26,
      "outputs": [
        {
          "output_type": "stream",
          "name": "stdout",
          "text": [
            "Trial 6 Complete [00h 00m 03s]\n",
            "val_accuracy: 0.7792207598686218\n",
            "\n",
            "Best val_accuracy So Far: 0.8051947951316833\n",
            "Total elapsed time: 00h 00m 23s\n"
          ]
        }
      ]
    },
    {
      "cell_type": "code",
      "source": [
        "tuner.get_best_hyperparameters()[0].values"
      ],
      "metadata": {
        "colab": {
          "base_uri": "https://localhost:8080/"
        },
        "id": "DYykCkjIgrLV",
        "outputId": "78cdf070-33a2-4ca3-de77-974dd98c24ba"
      },
      "execution_count": 27,
      "outputs": [
        {
          "output_type": "execute_result",
          "data": {
            "text/plain": [
              "{'units': 80}"
            ]
          },
          "metadata": {},
          "execution_count": 27
        }
      ]
    },
    {
      "cell_type": "markdown",
      "source": [
        "How to select no. of hidden layers"
      ],
      "metadata": {
        "id": "jr-bDo29Wnw9"
      }
    },
    {
      "cell_type": "code",
      "source": [
        "def build_model(hp):\n",
        "\n",
        "  model = Sequential()\n",
        "\n",
        "  model.add(Dense(128,activation='relu', input_dim=8))\n",
        "  for i in range(hp.Int('num_layers', min_value = 1, max_value =10)):\n",
        "\n",
        "    model.add(Dense(128,activation='relu'))\n",
        "  \n",
        "  model.add(Dense(1, activation='sigmoid'))\n",
        "\n",
        "  model.compile(optimizer='rmsprop', loss='binary_crossentropy', metrics=['accuracy'])\n",
        "\n",
        "  return model\n",
        "\n"
      ],
      "metadata": {
        "id": "1r1InIbCguum"
      },
      "execution_count": 28,
      "outputs": []
    },
    {
      "cell_type": "code",
      "source": [
        "tuner = kt.RandomSearch(build_model,\n",
        "                        objective='val_accuracy',\n",
        "                        max_trials=3,\n",
        "                        directory='mydir',\n",
        "                        project_name='num_layers')"
      ],
      "metadata": {
        "id": "btVUJno_bE6N"
      },
      "execution_count": 29,
      "outputs": []
    },
    {
      "cell_type": "code",
      "source": [
        "tuner.search(X_train,y_train,epochs=5, validation_data=(X_test,y_test))"
      ],
      "metadata": {
        "colab": {
          "base_uri": "https://localhost:8080/"
        },
        "id": "Hd0XPS-hbZTN",
        "outputId": "382d43a8-5152-4594-f8ac-24db1a32aae9"
      },
      "execution_count": 30,
      "outputs": [
        {
          "output_type": "stream",
          "name": "stdout",
          "text": [
            "Trial 3 Complete [00h 00m 02s]\n",
            "val_accuracy: 0.798701286315918\n",
            "\n",
            "Best val_accuracy So Far: 0.8116883039474487\n",
            "Total elapsed time: 00h 00m 15s\n"
          ]
        }
      ]
    },
    {
      "cell_type": "code",
      "source": [
        "tuner.get_best_hyperparameters()[0].values"
      ],
      "metadata": {
        "colab": {
          "base_uri": "https://localhost:8080/"
        },
        "id": "yP3nhZm5cLE7",
        "outputId": "55648c41-61ef-427f-8e00-2a4a67f7aba9"
      },
      "execution_count": 31,
      "outputs": [
        {
          "output_type": "execute_result",
          "data": {
            "text/plain": [
              "{'num_layers': 1}"
            ]
          },
          "metadata": {},
          "execution_count": 31
        }
      ]
    },
    {
      "cell_type": "code",
      "source": [],
      "metadata": {
        "id": "oWtjBGxgdWyi"
      },
      "execution_count": 31,
      "outputs": []
    },
    {
      "cell_type": "markdown",
      "source": [
        "Implementation of All in one model"
      ],
      "metadata": {
        "id": "CMj2BXaXdeKc"
      }
    },
    {
      "cell_type": "code",
      "source": [
        "from keras.layers.serialization import activation\n",
        "def build_model(hp):\n",
        "  model = Sequential()\n",
        "\n",
        "  counter  = 0\n",
        "\n",
        "  for i in range(hp.Int('num_layers',min_value=1, max_value=10)):\n",
        "\n",
        "    if counter == 0:\n",
        "      model.add(\n",
        "          Dense(\n",
        "              units=hp.Int('units' + str(i),min_value=8,max_value=128,step=8),\n",
        "              activation=hp.Choice('activation' + str(i), values=['relu','sigmoid','tanh']),\n",
        "              input_dim = 8)\n",
        "          )\n",
        "      \n",
        "    else:\n",
        "         model.add(\n",
        "          Dense(\n",
        "              units=hp.Int('units' + str(i),min_value=8,max_value=128,step=8),\n",
        "              activation=hp.Choice('activation' + str(i), values=['relu','sigmoid','tanh']),\n",
        "      ))\n",
        "    counter += 1 \n",
        "\n",
        "\n",
        "  model.add(Dense(1,activation='sigmoid'))       \n",
        "  model.compile(optimizer=hp.Choice('optimzer',values=['rmsprop','adam','sgd','nadam','addadelta']),\n",
        "                loss='binary_crossentropy',\n",
        "                metrics='accuracy')\n",
        "  return model\n"
      ],
      "metadata": {
        "id": "NZYyjFaPdkRe"
      },
      "execution_count": 53,
      "outputs": []
    },
    {
      "cell_type": "code",
      "source": [
        "tuner = kt.RandomSearch(build_model,\n",
        "                        objective='val_accuracy',\n",
        "                        max_trials=3,\n",
        "                        directory='mydir',\n",
        "                        project_name='full')"
      ],
      "metadata": {
        "id": "B3pAEoE9jmfE"
      },
      "execution_count": 54,
      "outputs": []
    },
    {
      "cell_type": "code",
      "source": [
        "tuner.search(X_train,y_train,epochs=5,validation_data=(X_test,y_test))"
      ],
      "metadata": {
        "colab": {
          "base_uri": "https://localhost:8080/"
        },
        "id": "O2CB95ZekBU4",
        "outputId": "92fd8617-dfdf-4e2c-8f5e-c325029fd900"
      },
      "execution_count": 55,
      "outputs": [
        {
          "output_type": "stream",
          "name": "stdout",
          "text": [
            "Trial 3 Complete [00h 00m 07s]\n",
            "val_accuracy: 0.6428571343421936\n",
            "\n",
            "Best val_accuracy So Far: 0.8181818127632141\n",
            "Total elapsed time: 00h 00m 17s\n"
          ]
        }
      ]
    },
    {
      "cell_type": "code",
      "source": [
        "tuner.get_best_hyperparameters()[0].values"
      ],
      "metadata": {
        "colab": {
          "base_uri": "https://localhost:8080/"
        },
        "id": "j5-ufPnZmAMB",
        "outputId": "9b8751ec-46d6-4712-d2a9-552b62b72c9b"
      },
      "execution_count": 56,
      "outputs": [
        {
          "output_type": "execute_result",
          "data": {
            "text/plain": [
              "{'num_layers': 5,\n",
              " 'units0': 40,\n",
              " 'activation0': 'tanh',\n",
              " 'optimzer': 'nadam',\n",
              " 'units1': 32,\n",
              " 'activation1': 'tanh',\n",
              " 'units2': 24,\n",
              " 'activation2': 'sigmoid',\n",
              " 'units3': 120,\n",
              " 'activation3': 'tanh',\n",
              " 'units4': 40,\n",
              " 'activation4': 'sigmoid',\n",
              " 'units5': 88,\n",
              " 'activation5': 'tanh'}"
            ]
          },
          "metadata": {},
          "execution_count": 56
        }
      ]
    },
    {
      "cell_type": "code",
      "source": [],
      "metadata": {
        "id": "2kVg9jpEmGSr"
      },
      "execution_count": null,
      "outputs": []
    }
  ]
}